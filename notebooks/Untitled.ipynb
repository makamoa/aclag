{
 "cells": [
  {
   "cell_type": "code",
   "execution_count": 5,
   "metadata": {},
   "outputs": [],
   "source": [
    "import sys\n",
    "sys.path.insert(0, \"../src/\")\n",
    "import jax.numpy as jnp\n",
    "import numpy as np\n",
    "import time\n",
    "import compression_operator\n",
    "from compression_operator import Top_k"
   ]
  },
  {
   "cell_type": "code",
   "execution_count": 6,
   "metadata": {},
   "outputs": [],
   "source": [
    "def aCLAG_step(x_k, g_k, comm, oracle_container, compression_operator,\n",
    "              trigger_beta, grad_k_prev, stepsize):\n",
    "    x_k -= stepsize * g_k.mean(axis=0)\n",
    "    n, d = g_k.shape\n",
    "    triggered = np.array([False] * n)\n",
    "    compressions = np.zeros(n,dtype=np.int)\n",
    "    g_k_opt = np.zeros(g_k.shape)\n",
    "    grad_k = oracle_container.compute_grad(x_k)\n",
    "    for i in range(len(g_k)):\n",
    "        for k in range(0, d, 5):\n",
    "            compression_operator = Top_k(k)\n",
    "            g_k_hat = g_k[i] + compression_operator.compress(grad_k[i] - g_k[i])\n",
    "            trigger_rhs = trigger_beta * np.linalg.norm(\n",
    "            grad_k[i] - grad_k_prev[i], ord=2, axis=1) ** 2\n",
    "            trigger_lhs = np.linalg.norm(g_k_hat[i] - grad_k[i], ord=2) ** 2\n",
    "            if trigger_lhs < trigger_rhs:\n",
    "                compressions[i] = k\n",
    "                g_k_opt[i] = g_k_hat\n",
    "                triggered[i] = True\n",
    "                break\n",
    "        if not triggered[i]:\n",
    "            compression_operator = Top_k(d)\n",
    "            g_k_opt[i] = g_k[i] + compression_operator.compress(grad_k[i] - g_k[i])\n",
    "            compressions[i] = d\n",
    "            triggered[i] = True\n",
    "    g_k = jnp.array(g_k_opt)\n",
    "    comm += compressions.sum()\n",
    "    return x_k, g_k, grad_k, comm"
   ]
  },
  {
   "cell_type": "code",
   "execution_count": 12,
   "metadata": {},
   "outputs": [
    {
     "name": "stdout",
     "output_type": "stream",
     "text": [
      "0 0\n",
      "1 0\n"
     ]
    }
   ],
   "source": [
    "for i in range(2):\n",
    "    for j in range(3):\n",
    "        if j == 1:\n",
    "            break\n",
    "        print(i,j)"
   ]
  },
  {
   "cell_type": "code",
   "execution_count": 14,
   "metadata": {},
   "outputs": [
    {
     "data": {
      "text/plain": [
       "array([0, 0, 0, 0, 0, 0, 0, 0, 0, 0])"
      ]
     },
     "execution_count": 14,
     "metadata": {},
     "output_type": "execute_result"
    }
   ],
   "source": [
    "np.zeros(10,dtype=np.int)"
   ]
  },
  {
   "cell_type": "code",
   "execution_count": null,
   "metadata": {},
   "outputs": [],
   "source": []
  }
 ],
 "metadata": {
  "kernelspec": {
   "display_name": "prima",
   "language": "python",
   "name": "prima"
  },
  "language_info": {
   "codemirror_mode": {
    "name": "ipython",
    "version": 3
   },
   "file_extension": ".py",
   "mimetype": "text/x-python",
   "name": "python",
   "nbconvert_exporter": "python",
   "pygments_lexer": "ipython3",
   "version": "3.7.3"
  }
 },
 "nbformat": 4,
 "nbformat_minor": 4
}
